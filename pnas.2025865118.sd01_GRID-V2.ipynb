{
 "cells": [
  {
   "cell_type": "code",
   "execution_count": 1,
   "metadata": {},
   "outputs": [
    {
     "name": "stdout",
     "output_type": "stream",
     "text": [
      "  State/Union Territories (N=35) District (N=623) Village (N=597,121)  \\\n",
      "0            Andaman and Nicobar          Nicobar      Bharatpur (RV)   \n",
      "1            Andaman and Nicobar          Nicobar      Chanel/Chanol*   \n",
      "2            Andaman and Nicobar          Nicobar             Raihion   \n",
      "3            Andaman and Nicobar          Nicobar     Inroak/Chinlak*   \n",
      "4            Andaman and Nicobar          Nicobar             Jhoola*   \n",
      "\n",
      "   Predicted Stunting (%) National Rank (Stunting)  \\\n",
      "0                   16.62                   11,117   \n",
      "1                   23.08                   42,250   \n",
      "2                   24.59                   55,452   \n",
      "3                   10.32                    2,503   \n",
      "4                   20.31                   24,642   \n",
      "\n",
      "  State Specfic Rank (Stunting) District Specfic Rank (Stunting)  \\\n",
      "0                            22                               10   \n",
      "1                            88                               37   \n",
      "2                           103                               45   \n",
      "3                             6                                3   \n",
      "4                            50                               22   \n",
      "\n",
      "   Predicted Underweight (%) National Rank (Underweight)  \\\n",
      "0                      25.16                    1,05,352   \n",
      "1                      24.89                    1,01,496   \n",
      "2                      12.37                      11,447   \n",
      "3                      25.43                    1,09,219   \n",
      "4                       5.88                       2,633   \n",
      "\n",
      "  State Specfic Rank (Underweight) District Specfic Rank (Underweight)  \\\n",
      "0                              245                                  81   \n",
      "1                              240                                  78   \n",
      "2                               65                                  28   \n",
      "3                              254                                  84   \n",
      "4                               18                                  10   \n",
      "\n",
      "   Predicted Wasting (%) National Rank (Wasting) State Specfic Rank (Wasting)  \\\n",
      "0                  20.82                2,82,257                          290   \n",
      "1                  17.81                1,99,908                          252   \n",
      "2                   9.79                  46,722                          138   \n",
      "3                  18.78                2,26,020                          263   \n",
      "4                   3.00                   7,349                           54   \n",
      "\n",
      "  District Specfic Rank (Wasting)  \n",
      "0                              86  \n",
      "1                              74  \n",
      "2                              38  \n",
      "3                              78  \n",
      "4                              17  \n"
     ]
    }
   ],
   "source": [
    "import pandas as pd\n",
    "\n",
    "# Load the CSV file\n",
    "file_path = '/Users/kasirajan/Documents/ACF/Malnutrition/pnas.2025865118.sd01.csv'\n",
    "csv_data = pd.read_csv(file_path)\n",
    "\n",
    "# Check the structure of the CSV file\n",
    "print(csv_data.head())\n"
   ]
  },
  {
   "cell_type": "code",
   "execution_count": 1,
   "metadata": {},
   "outputs": [
    {
     "name": "stdout",
     "output_type": "stream",
     "text": [
      "  State/Union Territories (N=35) District (N=623) Village (N=597,121)  \\\n",
      "0            Andaman and Nicobar          Nicobar      Bharatpur (RV)   \n",
      "1            Andaman and Nicobar          Nicobar      Chanel/Chanol*   \n",
      "2            Andaman and Nicobar          Nicobar             Raihion   \n",
      "3            Andaman and Nicobar          Nicobar     Inroak/Chinlak*   \n",
      "4            Andaman and Nicobar          Nicobar             Jhoola*   \n",
      "\n",
      "   Predicted Stunting (%) National Rank (Stunting)  \\\n",
      "0                   16.62                   11,117   \n",
      "1                   23.08                   42,250   \n",
      "2                   24.59                   55,452   \n",
      "3                   10.32                    2,503   \n",
      "4                   20.31                   24,642   \n",
      "\n",
      "  State Specfic Rank (Stunting) District Specfic Rank (Stunting)  \\\n",
      "0                            22                               10   \n",
      "1                            88                               37   \n",
      "2                           103                               45   \n",
      "3                             6                                3   \n",
      "4                            50                               22   \n",
      "\n",
      "   Predicted Underweight (%) National Rank (Underweight)  \\\n",
      "0                      25.16                    1,05,352   \n",
      "1                      24.89                    1,01,496   \n",
      "2                      12.37                      11,447   \n",
      "3                      25.43                    1,09,219   \n",
      "4                       5.88                       2,633   \n",
      "\n",
      "  State Specfic Rank (Underweight) District Specfic Rank (Underweight)  \\\n",
      "0                              245                                  81   \n",
      "1                              240                                  78   \n",
      "2                               65                                  28   \n",
      "3                              254                                  84   \n",
      "4                               18                                  10   \n",
      "\n",
      "   Predicted Wasting (%) National Rank (Wasting) State Specfic Rank (Wasting)  \\\n",
      "0                  20.82                2,82,257                          290   \n",
      "1                  17.81                1,99,908                          252   \n",
      "2                   9.79                  46,722                          138   \n",
      "3                  18.78                2,26,020                          263   \n",
      "4                   3.00                   7,349                           54   \n",
      "\n",
      "  District Specfic Rank (Wasting)  \n",
      "0                              86  \n",
      "1                              74  \n",
      "2                              38  \n",
      "3                              78  \n",
      "4                              17  \n"
     ]
    }
   ],
   "source": [
    "import pandas as pd\n",
    "\n",
    "# Load the CSV file\n",
    "file_path = '/Users/kasirajan/Documents/ACF/Malnutrition/pnas.2025865118.sd01.csv'\n",
    "csv_data = pd.read_csv(file_path)\n",
    "\n",
    "# Display the first few rows of the dataframe\n",
    "print(csv_data.head())\n"
   ]
  },
  {
   "cell_type": "code",
   "execution_count": 2,
   "metadata": {},
   "outputs": [],
   "source": [
    "# Filter the dataframe for Uttar Pradesh\n",
    "up_data = csv_data[csv_data['State/Union Territories (N=35)'] == 'Uttar Pradesh']\n"
   ]
  },
  {
   "cell_type": "code",
   "execution_count": 3,
   "metadata": {},
   "outputs": [
    {
     "name": "stdout",
     "output_type": "stream",
     "text": [
      "         District  Avg_Predicted_Stunting  Avg_Predicted_Underweight\n",
      "0            Agra               40.062355                  36.316595\n",
      "1         Aligarh               40.263009                  35.575060\n",
      "2       Allahabad               39.738785                  35.974225\n",
      "3  Ambedkar Nagar               36.246007                  32.934075\n",
      "4         Auraiya               37.877711                  36.474772\n"
     ]
    }
   ],
   "source": [
    "# Aggregate data at the District level for Uttar Pradesh\n",
    "district_data_up = up_data.groupby('District (N=623)').agg({\n",
    "    'Predicted Stunting (%)': 'mean',\n",
    "    'Predicted Underweight (%)': 'mean'\n",
    "}).reset_index()\n",
    "\n",
    "# Rename the columns for ease of use in later steps\n",
    "district_data_up.columns = ['District', 'Avg_Predicted_Stunting', 'Avg_Predicted_Underweight']\n",
    "\n",
    "# Display the first few rows of the aggregated dataframe\n",
    "print(district_data_up.head())\n"
   ]
  },
  {
   "cell_type": "code",
   "execution_count": 8,
   "metadata": {},
   "outputs": [
    {
     "name": "stdout",
     "output_type": "stream",
     "text": [
      "Column names in the GeoJSON file:\n",
      "Index(['id', 'dt_code', 'district', 'st_code', 'year', 'st_nm', 'geometry'], dtype='object')\n"
     ]
    }
   ],
   "source": [
    "district_gdf = gpd.read_file('/Users/kasirajan/Documents/ACF/District Boundaries/uttarpradesh.geojson')\n",
    "print(\"Column names in the GeoJSON file:\")\n",
    "print(district_gdf.columns)\n"
   ]
  },
  {
   "cell_type": "code",
   "execution_count": 11,
   "metadata": {},
   "outputs": [
    {
     "name": "stdout",
     "output_type": "stream",
     "text": [
      "   id dt_code     district st_code        year          st_nm  \\\n",
      "0 NaN     137       Amroha      09      2011_c  Uttar Pradesh   \n",
      "1 NaN     705        Hapur      09  update2014  Uttar Pradesh   \n",
      "2 NaN     150     Bareilly      09      2011_c  Uttar Pradesh   \n",
      "3 NaN     151     Pilibhit      09      2011_c  Uttar Pradesh   \n",
      "4 NaN     142  Bulandshahr      09      2011_c  Uttar Pradesh   \n",
      "\n",
      "                                            geometry     District  \\\n",
      "0  POLYGON ((78.07294 29.08235, 78.13417 29.06493...          NaN   \n",
      "1  POLYGON ((78.12081 28.87840, 78.11615 28.86553...          NaN   \n",
      "2  POLYGON ((79.68300 28.85455, 79.67554 28.84624...     Bareilly   \n",
      "3  POLYGON ((79.70196 28.25662, 79.70910 28.25286...     Pilibhit   \n",
      "4  POLYGON ((78.21032 28.62701, 78.21063 28.62701...  Bulandshahr   \n",
      "\n",
      "   Avg_Predicted_Stunting  Avg_Predicted_Underweight  \n",
      "0                     NaN                        NaN  \n",
      "1                     NaN                        NaN  \n",
      "2               43.133520                  36.408135  \n",
      "3               41.579003                  32.907056  \n",
      "4               40.775227                  36.030862  \n"
     ]
    }
   ],
   "source": [
    "# Merge the spatial and non-spatial dataframes on the District column\n",
    "district_gdf = district_gdf.merge(district_data_up, left_on='district', right_on='District', how='left')\n",
    "\n",
    "# Display the first few rows of the resultant GeoDataFrame\n",
    "print(district_gdf.head())\n"
   ]
  },
  {
   "cell_type": "code",
   "execution_count": 12,
   "metadata": {},
   "outputs": [
    {
     "name": "stdout",
     "output_type": "stream",
     "text": [
      "   id dt_code     district st_code        year          st_nm  \\\n",
      "0 NaN     137       Amroha      09      2011_c  Uttar Pradesh   \n",
      "1 NaN     705        Hapur      09  update2014  Uttar Pradesh   \n",
      "2 NaN     150     Bareilly      09      2011_c  Uttar Pradesh   \n",
      "3 NaN     151     Pilibhit      09      2011_c  Uttar Pradesh   \n",
      "4 NaN     142  Bulandshahr      09      2011_c  Uttar Pradesh   \n",
      "\n",
      "                                            geometry     District  \\\n",
      "0  POLYGON ((78.07294 29.08235, 78.13417 29.06493...          NaN   \n",
      "1  POLYGON ((78.12081 28.87840, 78.11615 28.86553...          NaN   \n",
      "2  POLYGON ((79.68300 28.85455, 79.67554 28.84624...     Bareilly   \n",
      "3  POLYGON ((79.70196 28.25662, 79.70910 28.25286...     Pilibhit   \n",
      "4  POLYGON ((78.21032 28.62701, 78.21063 28.62701...  Bulandshahr   \n",
      "\n",
      "   Avg_Predicted_Stunting  Avg_Predicted_Underweight  \n",
      "0                0.000000                   0.000000  \n",
      "1                0.000000                   0.000000  \n",
      "2               43.133520                  36.408135  \n",
      "3               41.579003                  32.907056  \n",
      "4               40.775227                  36.030862  \n"
     ]
    }
   ],
   "source": [
    "district_gdf[['Avg_Predicted_Stunting', 'Avg_Predicted_Underweight']] = district_gdf[['Avg_Predicted_Stunting', 'Avg_Predicted_Underweight']].fillna(0)\n",
    "\n",
    "# Display the first few rows of the resultant GeoDataFrame\n",
    "print(district_gdf.head())\n"
   ]
  },
  {
   "cell_type": "code",
   "execution_count": 14,
   "metadata": {},
   "outputs": [
    {
     "name": "stdout",
     "output_type": "stream",
     "text": [
      "Export completed!\n"
     ]
    }
   ],
   "source": [
    "# Import the os module\n",
    "import os\n",
    "\n",
    "output_directory = \"/Users/kasirajan/Documents/ACF/Malnutrition/Output\"\n",
    "\n",
    "# Iterate over each unique district and export the grids for that district to a separate GeoJSON file\n",
    "for idx, row in district_gdf.iterrows():\n",
    "    district_name = row['district']\n",
    "    filename = f\"{district_name}_Data.geojson\"\n",
    "    output_path = os.path.join(output_directory, filename)\n",
    "    \n",
    "    # Extract the single row as a GeoDataFrame and export to GeoJSON\n",
    "    single_district_gdf = gpd.GeoDataFrame([row], crs=district_gdf.crs)\n",
    "    single_district_gdf.to_file(output_path, driver='GeoJSON')\n",
    "    \n",
    "print(\"Export completed!\")\n"
   ]
  }
 ],
 "metadata": {
  "kernelspec": {
   "display_name": "Python 3",
   "language": "python",
   "name": "python3"
  },
  "language_info": {
   "codemirror_mode": {
    "name": "ipython",
    "version": 3
   },
   "file_extension": ".py",
   "mimetype": "text/x-python",
   "name": "python",
   "nbconvert_exporter": "python",
   "pygments_lexer": "ipython3",
   "version": "3.11.4"
  },
  "orig_nbformat": 4
 },
 "nbformat": 4,
 "nbformat_minor": 2
}
